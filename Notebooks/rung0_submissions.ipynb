{
 "cells": [
  {
   "cell_type": "code",
   "execution_count": null,
   "id": "dbbcc4d5",
   "metadata": {},
   "outputs": [],
   "source": [
    "import os\n",
    "\n",
    "# TODO: set file path for pickle file where your results will be stored\n",
    "file_path = \n",
    "file_path = os.path.join(file_path, 'rung0.pkl')\n",
    "\n",
    "results_dict = {}\n",
    "parameters = [\n",
    "    'theta_E',\n",
    "    'theta_E uncertainty',\n",
    "    'e1',\n",
    "    'e1_uncertainty',\n",
    "    'e2',\n",
    "    'e2_uncertainty',\n",
    "]\n",
    "\n",
    "# TODO: results for the different parameters, should be stored as lists or numpy arrays\n",
    "for parameter in parameters:\n",
    "    results_dict[parameter] = "
   ]
  },
  {
   "cell_type": "code",
   "execution_count": null,
   "id": "c14603fb",
   "metadata": {},
   "outputs": [],
   "source": [
    "import pickle\n",
    "\n",
    "# Save the dictionary to a binary file\n",
    "with open(file_path, \"wb\") as f:\n",
    "    pickle.dump(results_dict, f)"
   ]
  }
 ],
 "metadata": {
  "kernelspec": {
   "display_name": "Python 3",
   "language": "python",
   "name": "python3"
  },
  "language_info": {
   "name": "python",
   "version": "3.11.9"
  }
 },
 "nbformat": 4,
 "nbformat_minor": 5
}
