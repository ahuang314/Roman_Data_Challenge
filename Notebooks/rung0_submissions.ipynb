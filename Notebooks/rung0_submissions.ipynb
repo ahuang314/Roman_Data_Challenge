{
 "cells": [
  {
   "cell_type": "code",
   "execution_count": null,
   "id": "dbbcc4d5",
   "metadata": {},
   "outputs": [],
   "source": [
    "import os\n",
    "\n",
    "# TODO: set file path for csv file where your results will be stored\n",
    "team_name = \n",
    "file_path = \n",
    "file_path = os.path.join(file_path, team_name + '_rung0_submission.csv')\n",
    "\n",
    "PARAMETERS = [\n",
    "    'ID',\n",
    "    'theta_E',\n",
    "    'theta_E_sigma',\n",
    "]\n",
    "\n",
    "# TODO: store results in 2d list/array, where results[i] contains all of the parameters for test lens i\n",
    "results = "
   ]
  },
  {
   "cell_type": "code",
   "execution_count": 9,
   "id": "c14603fb",
   "metadata": {},
   "outputs": [],
   "source": [
    "import csv\n",
    "\n",
    "# Save the dictionary to a binary file\n",
    "with open(file_path, \"w\", newline='') as f:\n",
    "    writer = csv.writer(f)\n",
    "    writer.writerow(PARAMETERS)\n",
    "\n",
    "    for row in results:\n",
    "        writer.writerow(row)"
   ]
  }
 ],
 "metadata": {
  "kernelspec": {
   "display_name": "Python 3",
   "language": "python",
   "name": "python3"
  },
  "language_info": {
   "codemirror_mode": {
    "name": "ipython",
    "version": 3
   },
   "file_extension": ".py",
   "mimetype": "text/x-python",
   "name": "python",
   "nbconvert_exporter": "python",
   "pygments_lexer": "ipython3",
   "version": "3.11.9"
  }
 },
 "nbformat": 4,
 "nbformat_minor": 5
}
