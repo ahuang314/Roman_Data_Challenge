{
 "cells": [
  {
   "cell_type": "code",
   "execution_count": null,
   "id": "dbbcc4d5",
   "metadata": {},
   "outputs": [],
   "source": [
    "import os\n",
    "\n",
    "# TODO: set file path for pickle file where your results will be stored\n",
    "team_name = \n",
    "file_path = \n",
    "file_path = os.path.join(file_path, team_name + '_rung1_submission.pkl')\n",
    "\n",
    "results_dict = {}\n",
    "parameters = [\n",
    "    'has_substructure',\n",
    "]\n",
    "\n",
    "# TODO: results for whether or not each test lens contains substructure; should be a list or array of booleans\n",
    "for parameter in parameters:\n",
    "    results_dict[parameter] = "
   ]
  },
  {
   "cell_type": "code",
   "execution_count": null,
   "id": "c14603fb",
   "metadata": {},
   "outputs": [],
   "source": [
    "import pickle\n",
    "\n",
    "# Save the dictionary to a binary file\n",
    "with open(file_path, \"wb\") as f:\n",
    "    pickle.dump(results_dict, f)"
   ]
  }
 ],
 "metadata": {
  "kernelspec": {
   "display_name": "Python 3",
   "language": "python",
   "name": "python3"
  },
  "language_info": {
   "name": "python",
   "version": "3.11.9"
  }
 },
 "nbformat": 4,
 "nbformat_minor": 5
}
